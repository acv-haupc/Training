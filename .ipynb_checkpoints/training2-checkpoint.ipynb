{
 "cells": [
  {
   "cell_type": "code",
   "execution_count": 27,
   "metadata": {},
   "outputs": [],
   "source": [
    "import tensorflow as tf"
   ]
  },
  {
   "cell_type": "code",
   "execution_count": null,
   "metadata": {},
   "outputs": [],
   "source": [
    "tf.reset_default_graph()"
   ]
  },
  {
   "cell_type": "code",
   "execution_count": 2,
   "metadata": {},
   "outputs": [
    {
     "name": "stdout",
     "output_type": "stream",
     "text": [
      "5\n"
     ]
    }
   ],
   "source": [
    "a = tf.constant(2)\n",
    "b = tf.constant(3)\n",
    "x = tf.add(a, b)\n",
    "with tf.Session() as sess:\n",
    "    print(sess.run(x))\n",
    "    sess.close()\n"
   ]
  },
  {
   "cell_type": "code",
   "execution_count": 10,
   "metadata": {},
   "outputs": [],
   "source": [
    "#import tensorflow as tf\n",
    "#Tensorflow Constant\n",
    "#tf.constant(\n",
    "#     value,    == shape\n",
    "#     dtype=None,  ==type of constant\n",
    "#     shape=None,  == \n",
    "#     name='Const',\n",
    "#     verify_shape=False\n",
    "# )\n",
    "\n",
    "\n",
    "a = tf.constant([2, 2], name='a')\n",
    "b = tf.constant([[0, 1], [2, 3]], name='b')"
   ]
  },
  {
   "cell_type": "code",
   "execution_count": 6,
   "metadata": {},
   "outputs": [
    {
     "name": "stdout",
     "output_type": "stream",
     "text": [
      "Tensor(\"b_1:0\", shape=(2, 2), dtype=int32)\n"
     ]
    }
   ],
   "source": [
    "with tf.Session() as sess:\n",
    "    print(b)\n",
    "    sess.close()"
   ]
  },
  {
   "cell_type": "code",
   "execution_count": 12,
   "metadata": {},
   "outputs": [
    {
     "name": "stdout",
     "output_type": "stream",
     "text": [
      "[[0 2]\n",
      " [4 3]]\n"
     ]
    }
   ],
   "source": [
    "#constant with math\n",
    "# [a0*b[0] a1*b[1]] = [2*0, 1*2]\n",
    "#                     [2*2, 1*3]\n",
    "a = tf.constant([2, 1], name='a')\n",
    "b = tf.constant([[0, 2], [2, 3]], name='b')\n",
    "x = tf.multiply(a, b, name='mul')\n",
    "with tf.Session() as sess:\n",
    "    print(sess.run(x))\n",
    "    sess.close()\n"
   ]
  },
  {
   "cell_type": "code",
   "execution_count": 13,
   "metadata": {},
   "outputs": [
    {
     "data": {
      "text/plain": [
       "<tf.Tensor 'zeros:0' shape=(2, 3) dtype=int32>"
      ]
     },
     "execution_count": 13,
     "metadata": {},
     "output_type": "execute_result"
    }
   ],
   "source": [
    "#create tensor with specific value\n",
    "#tf.zeros(shape, dtype=tf.float32, name=None)\n",
    "\n",
    "tf.zeros([2, 3], tf.int32)"
   ]
  },
  {
   "cell_type": "code",
   "execution_count": 14,
   "metadata": {},
   "outputs": [
    {
     "data": {
      "text/plain": [
       "<tf.Tensor 'zeros_like:0' shape=(2,) dtype=int32>"
      ]
     },
     "execution_count": 14,
     "metadata": {},
     "output_type": "execute_result"
    }
   ],
   "source": [
    "#create a tensor 2x2 with all element = 0\n",
    "tf.zeros_like([2,2])"
   ]
  },
  {
   "cell_type": "code",
   "execution_count": 15,
   "metadata": {},
   "outputs": [
    {
     "data": {
      "text/plain": [
       "<tf.Tensor 'ones_like:0' shape=(2,) dtype=int32>"
      ]
     },
     "execution_count": 15,
     "metadata": {},
     "output_type": "execute_result"
    }
   ],
   "source": [
    "# tensor 2x2 ele = 1\n",
    "tf.ones_like([2,2])"
   ]
  },
  {
   "cell_type": "code",
   "execution_count": 16,
   "metadata": {},
   "outputs": [
    {
     "data": {
      "text/plain": [
       "<tf.Tensor 'Fill:0' shape=(2, 3) dtype=int32>"
      ]
     },
     "execution_count": 16,
     "metadata": {},
     "output_type": "execute_result"
    }
   ],
   "source": [
    "#create tensor 2x3 with ele = 8\n",
    "tf.fill([2, 3], 8)"
   ]
  },
  {
   "cell_type": "code",
   "execution_count": 17,
   "metadata": {},
   "outputs": [
    {
     "data": {
      "text/plain": [
       "<tf.Tensor 'range_1:0' shape=(5,) dtype=int32>"
      ]
     },
     "execution_count": 17,
     "metadata": {},
     "output_type": "execute_result"
    }
   ],
   "source": [
    "#tf.lin_space(start, stop, num, name=None) \n",
    "tf.lin_space(10.0, 13.0, 4) #==> [10. 11. 12. 13.]\n",
    "\n",
    "#tf.range(start, limit=None, delta=1, dtype=None, name='range')\n",
    "tf.range(3, 18, 3) #==> [3 6 9 12 15]   (start, stop, step)\n",
    "tf.range(5) #==> [0 1 2 3 4]    (start = 0 (default), stop = 5, step = 1 (default))"
   ]
  },
  {
   "cell_type": "markdown",
   "metadata": {},
   "source": [
    "# All random function\n",
    "tf.random_normal\n",
    "tf.truncated_normal\n",
    "tf.random_uniform\n",
    "tf.random_shuffle\n",
    "tf.random_crop\n",
    "tf.multinomial\n",
    "tf.random_gamma\n"
   ]
  },
  {
   "cell_type": "markdown",
   "metadata": {},
   "source": [
    "# Arithmetic Ops\n",
    "tf.abs\n",
    "tf.negative\n",
    "tf.sign\n",
    "tf.reciprocal\n",
    "tf.square\n",
    "tf.round\n",
    "tf.sqrt\n",
    "tf.rsqrt\n",
    "tf.pow\n",
    "tf.exp\n"
   ]
  },
  {
   "cell_type": "code",
   "execution_count": 18,
   "metadata": {},
   "outputs": [
    {
     "name": "stdout",
     "output_type": "stream",
     "text": [
      "[[0 0]\n",
      " [1 1]]\n",
      "[[0.  0.5]\n",
      " [1.  1.5]]\n",
      "[[0.  0.5]\n",
      " [1.  1.5]]\n",
      "[[0 0]\n",
      " [1 1]]\n",
      "[[0 0]\n",
      " [1 1]]\n",
      "[[0 0]\n",
      " [1 1]]\n"
     ]
    }
   ],
   "source": [
    "a = tf.constant([2, 2], name='a')\n",
    "b = tf.constant([[0, 1], [2, 3]], name='b')\n",
    "with tf.Session() as sess:\n",
    "    print(sess.run(tf.div(b, a)))             #⇒ [[0 0] [1 1]]\n",
    "    print(sess.run(tf.divide(b, a)))          #⇒ [[0. 0.5] [1. 1.5]]\n",
    "    print(sess.run(tf.truediv(b, a)))         #⇒ [[0. 0.5] [1. 1.5]]\n",
    "    print(sess.run(tf.floordiv(b, a)))        #⇒ [[0 0] [1 1]]\n",
    "    #print(sess.run(tf.realdiv(b, a)))         #⇒ # Error: only works for real values\n",
    "    print(sess.run(tf.truncatediv(b, a)))     #⇒ [[0 0] [1 1]]\n",
    "    print(sess.run(tf.floor_div(b, a)))       #⇒ [[0 0] [1 1]]\n",
    "    sess.close()\n"
   ]
  },
  {
   "cell_type": "code",
   "execution_count": 20,
   "metadata": {},
   "outputs": [
    {
     "data": {
      "text/plain": [
       "True"
      ]
     },
     "execution_count": 20,
     "metadata": {},
     "output_type": "execute_result"
    }
   ],
   "source": [
    "#tensorflow vs numpy\n",
    "import numpy as np\n",
    "tf.int32 == np.int32"
   ]
  },
  {
   "cell_type": "code",
   "execution_count": 21,
   "metadata": {},
   "outputs": [
    {
     "data": {
      "text/plain": [
       "<tf.Tensor 'ones:0' shape=(2, 2) dtype=float32>"
      ]
     },
     "execution_count": 21,
     "metadata": {},
     "output_type": "execute_result"
    }
   ],
   "source": [
    "#Can pass numpy types to TensorFlow ops\n",
    "tf.ones([2, 2], np.float32)     # ⇒ [[1.0 1.0], [1.0 1.0]]"
   ]
  },
  {
   "cell_type": "code",
   "execution_count": 22,
   "metadata": {
    "scrolled": true
   },
   "outputs": [
    {
     "name": "stdout",
     "output_type": "stream",
     "text": [
      "<class 'tensorflow.python.framework.ops.Tensor'>\n",
      "<class 'numpy.ndarray'>\n"
     ]
    }
   ],
   "source": [
    "sess = tf.Session()\n",
    "a = tf.zeros([2, 3], np.int32)\n",
    "print(type(a))              # ⇒ <class 'tensorflow.python.framework.ops.Tensor'>\n",
    "a = sess.run(a)\n",
    "print(type(a))              # ⇒ <class 'numpy.ndarray'>\n",
    "sess.close()"
   ]
  },
  {
   "cell_type": "markdown",
   "metadata": {},
   "source": [
    " \n",
    "two method below give the same result\n",
    "tf.constant is an op\n",
    "tf.Variable is a class with many ops\n"
   ]
  },
  {
   "cell_type": "code",
   "execution_count": 23,
   "metadata": {},
   "outputs": [],
   "source": [
    "# create variables with tf.Variable\n",
    "s = tf.Variable(2, name=\"scalar\") \n",
    "m = tf.Variable([[0, 1], [2, 3]], name=\"matrix\") \n",
    "W = tf.Variable(tf.zeros([784,10]))\n"
   ]
  },
  {
   "cell_type": "code",
   "execution_count": 24,
   "metadata": {},
   "outputs": [],
   "source": [
    "# create variables with tf.get_variable\n",
    "s1 = tf.get_variable(\"scalar\", initializer=tf.constant(2)) \n",
    "m1 = tf.get_variable(\"matrix\", initializer=tf.constant([[0, 1], [2, 3]]))\n",
    "W1 = tf.get_variable(\"big_matrix\", shape=(784, 10), initializer=tf.zeros_initializer())\n"
   ]
  },
  {
   "cell_type": "raw",
   "metadata": {},
   "source": [
    "    before use tf.Variable you have to initialize variable\n",
    "    The easiest way is initializing all variables at once:"
   ]
  },
  {
   "cell_type": "code",
   "execution_count": 25,
   "metadata": {},
   "outputs": [],
   "source": [
    "with tf.Session() as sess:\n",
    "    sess.run(tf.global_variables_initializer())"
   ]
  },
  {
   "cell_type": "raw",
   "metadata": {},
   "source": [
    "    or only a subset of variable"
   ]
  },
  {
   "cell_type": "code",
   "execution_count": null,
   "metadata": {},
   "outputs": [],
   "source": [
    "with tf.Session() as sess:\n",
    "    sess.run(tf.variables_initializer([a, b]))\n"
   ]
  },
  {
   "cell_type": "code",
   "execution_count": null,
   "metadata": {},
   "outputs": [],
   "source": [
    "#Initialize a single variable\n",
    "W = tf.Variable(tf.zeros([784,10]))\n",
    "with tf.Session() as sess:\n",
    "    sess.run(W.initializer)\n"
   ]
  },
  {
   "cell_type": "raw",
   "metadata": {},
   "source": [
    "function eval() help print variable"
   ]
  },
  {
   "cell_type": "code",
   "execution_count": 28,
   "metadata": {},
   "outputs": [
    {
     "name": "stdout",
     "output_type": "stream",
     "text": [
      "<tf.Variable 'Variable_1:0' shape=(10, 10) dtype=float32_ref>\n"
     ]
    }
   ],
   "source": [
    "# W is a random 700 x 100 variable object\n",
    "W = tf.Variable(tf.truncated_normal([10, 10]))\n",
    "with tf.Session() as sess:\n",
    "    sess.run(W.initializer)\n",
    "    print(W)\n"
   ]
  },
  {
   "cell_type": "code",
   "execution_count": 29,
   "metadata": {
    "scrolled": true
   },
   "outputs": [
    {
     "name": "stdout",
     "output_type": "stream",
     "text": [
      "[[-0.04076865 -0.06467562  0.6722531  -0.95927244 -0.11348961  0.50543284\n",
      "   0.88175917 -0.46239674 -1.6288462   0.60764724]\n",
      " [-0.4129798   1.0298625   0.2376672   0.947171    1.3080615   0.01097945\n",
      "   1.0220386  -1.5582067   0.04460186 -0.14668053]\n",
      " [-0.7620799  -0.5471253  -0.33162788 -0.9302918   0.31242633  1.774834\n",
      "  -0.27860847 -0.77647245  1.1060969  -0.22059426]\n",
      " [ 1.6192287   0.04366938  0.12716049 -1.236693    0.21034186 -0.08792825\n",
      "   1.1052595  -0.85037166 -0.41367528  0.1084168 ]\n",
      " [-1.8653889  -1.3048458   0.18402399  1.0897834  -0.91004556  0.45649076\n",
      "   0.23101546  1.1582192  -0.8451881  -0.4093021 ]\n",
      " [-0.7642775   0.40276858  1.6099849   1.5514262   0.26404226 -0.04190308\n",
      "  -0.4573067   0.4697642  -0.47149405  0.15440065]\n",
      " [ 0.18363222 -0.7886365   1.3476125   1.0987529   1.5731632  -0.2996814\n",
      "  -1.4621017   0.4984555  -0.08082598 -1.2740017 ]\n",
      " [ 1.5957814  -0.9443772  -0.3574294   1.9751849   0.69469064  0.25970593\n",
      "   1.4844391   0.09589912 -0.8530717  -1.3453654 ]\n",
      " [-0.60031354  0.17876627  1.0942363  -0.71698374 -1.1225953  -1.8553451\n",
      "  -0.41663876  1.547428    1.3073634   0.68418187]\n",
      " [ 0.94603306 -0.60247463 -1.2345455   0.39513236 -0.35382158  0.23458047\n",
      "  -0.58766353  0.26673827  0.1701648   0.05009403]]\n"
     ]
    }
   ],
   "source": [
    "with tf.Session() as sess:\n",
    "    sess.run(W.initializer)\n",
    "    print(W.eval())     #like print(sess.run(W))"
   ]
  },
  {
   "cell_type": "code",
   "execution_count": 30,
   "metadata": {},
   "outputs": [
    {
     "name": "stdout",
     "output_type": "stream",
     "text": [
      "100\n"
     ]
    }
   ],
   "source": [
    "# tf.Variable.assign()\n",
    "# This operation outputs a Tensor that holds the new value of 'ref' after the value has been assigned\n",
    "# assign() creates an assign op.\n",
    "# That op needs to be executed in a session to take effect\n",
    "W = tf.Variable(10)\n",
    "assign_op = W.assign(100)\n",
    "with tf.Session() as sess:\n",
    "    sess.run(W.initializer)\n",
    "    sess.run(assign_op)\n",
    "    print(W.eval())\n"
   ]
  },
  {
   "cell_type": "code",
   "execution_count": 31,
   "metadata": {},
   "outputs": [],
   "source": [
    "# create a variable whose original value is 2\n",
    "my_var = tf.Variable(2, name=\"my_var\") \n",
    "\n",
    "# assign a * 2 to a and call that op a_times_two\n",
    "my_var_times_two = my_var.assign(2 * my_var)\n",
    "\n",
    "with tf.Session() as sess:\n",
    "    sess.run(my_var.initializer)\n",
    "    sess.run(my_var_times_two)\n",
    "\n",
    "#beside we have two options is assign_add() and assign_sub()\n"
   ]
  },
  {
   "cell_type": "code",
   "execution_count": 32,
   "metadata": {},
   "outputs": [
    {
     "name": "stdout",
     "output_type": "stream",
     "text": [
      "20\n",
      "8\n"
     ]
    }
   ],
   "source": [
    "#EEach session maintains its own copy of variables\n",
    "W = tf.Variable(10)\n",
    "\n",
    "sess1 = tf.Session()\n",
    "sess2 = tf.Session()\n",
    "\n",
    "sess1.run(W.initializer)\n",
    "sess2.run(W.initializer)\n",
    "\n",
    "print(sess1.run(W.assign_add(10)))         # >> 20\n",
    "print(sess2.run(W.assign_sub(2)))         # >> 8\n"
   ]
  },
  {
   "cell_type": "code",
   "execution_count": 33,
   "metadata": {},
   "outputs": [],
   "source": [
    "sess1.close()\n",
    "sess2.close()\n"
   ]
  },
  {
   "cell_type": "code",
   "execution_count": 36,
   "metadata": {},
   "outputs": [],
   "source": [
    "#Control Dependencies\n",
    "#A TF program often has 2 phases: \n",
    "#    1. Assemble a graph \n",
    "#    2. Use a session to execute operations in the graph.\n",
    "#Assemble the graph first without knowing the values needed for computation\n",
    "\n",
    "#Analogy:\n",
    "#Define the function f(x, y) = 2 * x + y without knowing value of x or y. \n",
    "#x, y are placeholders for the actual values\n",
    "#placeholders help us for updating data in the future"
   ]
  },
  {
   "cell_type": "code",
   "execution_count": null,
   "metadata": {},
   "outputs": [],
   "source": []
  }
 ],
 "metadata": {
  "kernelspec": {
   "display_name": "Python 3",
   "language": "python",
   "name": "python3"
  },
  "language_info": {
   "codemirror_mode": {
    "name": "ipython",
    "version": 3
   },
   "file_extension": ".py",
   "mimetype": "text/x-python",
   "name": "python",
   "nbconvert_exporter": "python",
   "pygments_lexer": "ipython3",
   "version": "3.6.5"
  }
 },
 "nbformat": 4,
 "nbformat_minor": 2
}
