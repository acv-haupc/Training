{
 "cells": [
  {
   "cell_type": "code",
   "execution_count": 1,
   "metadata": {},
   "outputs": [],
   "source": [
    "import numpy as np\n",
    "import pandas as pd\n",
    "import matplotlib.pyplot as plt\n",
    "import seaborn as sns\n",
    "import tensorflow as tf"
   ]
  },
  {
   "cell_type": "code",
   "execution_count": 2,
   "metadata": {},
   "outputs": [],
   "source": [
    "#data\n",
    "x_train = np.random.normal(1, 0.1, 100)\n",
    "y_train = np. repeat(10., 100)"
   ]
  },
  {
   "cell_type": "code",
   "execution_count": 3,
   "metadata": {},
   "outputs": [
    {
     "name": "stdout",
     "output_type": "stream",
     "text": [
      "[10. 10. 10. 10. 10. 10. 10. 10. 10. 10. 10. 10. 10. 10. 10. 10. 10. 10.\n",
      " 10. 10. 10. 10. 10. 10. 10. 10. 10. 10. 10. 10. 10. 10. 10. 10. 10. 10.\n",
      " 10. 10. 10. 10. 10. 10. 10. 10. 10. 10. 10. 10. 10. 10. 10. 10. 10. 10.\n",
      " 10. 10. 10. 10. 10. 10. 10. 10. 10. 10. 10. 10. 10. 10. 10. 10. 10. 10.\n",
      " 10. 10. 10. 10. 10. 10. 10. 10. 10. 10. 10. 10. 10. 10. 10. 10. 10. 10.\n",
      " 10. 10. 10. 10. 10. 10. 10. 10. 10. 10.]\n"
     ]
    }
   ],
   "source": [
    "print(y_train)"
   ]
  },
  {
   "cell_type": "code",
   "execution_count": 4,
   "metadata": {},
   "outputs": [],
   "source": [
    "#create placeholder\n",
    "x_holder = tf.placeholder(shape=[None, 1], dtype=tf.float32)\n",
    "y_holder = tf.placeholder(shape=[None, 1], dtype=tf.float32)"
   ]
  },
  {
   "cell_type": "code",
   "execution_count": 5,
   "metadata": {},
   "outputs": [],
   "source": [
    "#create w variable and bias b\n",
    "w = tf.Variable(tf.random_normal(shape=[1,1]))\n",
    "b = tf.Variable(tf.zeros([1,1]))"
   ]
  },
  {
   "cell_type": "code",
   "execution_count": 6,
   "metadata": {},
   "outputs": [],
   "source": [
    "batch_size = 16\n",
    "output = tf.add(tf.multiply(w, x_holder), b)\n",
    "loss = tf.reduce_mean(tf.square(output-y_holder))\n",
    "opt = tf.train.GradientDescentOptimizer(0.05)\n",
    "train_step = opt.minimize(loss)"
   ]
  },
  {
   "cell_type": "code",
   "execution_count": 7,
   "metadata": {},
   "outputs": [
    {
     "name": "stdout",
     "output_type": "stream",
     "text": [
      "WARNING:tensorflow:From /home/hau/anaconda3/lib/python3.6/site-packages/tensorflow/python/util/tf_should_use.py:189: initialize_all_variables (from tensorflow.python.ops.variables) is deprecated and will be removed after 2017-03-02.\n",
      "Instructions for updating:\n",
      "Use `tf.global_variables_initializer` instead.\n",
      "#Step: 0\n",
      "Loss=  61.500736\n",
      "#Step: 5\n",
      "Loss=  7.317216\n",
      "#Step: 10\n",
      "Loss=  0.7642521\n",
      "#Step: 15\n",
      "Loss=  0.27105162\n",
      "#Step: 20\n",
      "Loss=  0.2703771\n",
      "#Step: 25\n",
      "Loss=  0.25470755\n",
      "#Step: 30\n",
      "Loss=  0.27216274\n",
      "#Step: 35\n",
      "Loss=  0.18495311\n",
      "#Step: 40\n",
      "Loss=  0.20335832\n",
      "#Step: 45\n",
      "Loss=  0.29455346\n",
      "#Step: 50\n",
      "Loss=  0.22561032\n",
      "#Step: 55\n",
      "Loss=  0.21279022\n",
      "#Step: 60\n",
      "Loss=  0.21733804\n",
      "#Step: 65\n",
      "Loss=  0.16533387\n",
      "#Step: 70\n",
      "Loss=  0.22440913\n",
      "#Step: 75\n",
      "Loss=  0.1791654\n",
      "#Step: 80\n",
      "Loss=  0.1695143\n",
      "#Step: 85\n",
      "Loss=  0.210522\n",
      "#Step: 90\n",
      "Loss=  0.1790947\n",
      "#Step: 95\n",
      "Loss=  0.30487332\n"
     ]
    }
   ],
   "source": [
    "sess = tf.Session()\n",
    "sess.run(tf.initialize_all_variables())\n",
    "loss_batch = []\n",
    "for i in range(100):\n",
    "    rand_index = np.random.choice(100, size=batch_size)\n",
    "    rand_x = np.transpose([x_train[rand_index]])\n",
    "    rand_y = np.transpose([y_train[rand_index]])\n",
    "    sess.run(train_step, feed_dict={x_holder: rand_x, y_holder: rand_y})\n",
    "    \n",
    "    if (i)%5==0:\n",
    "        print(\"#Step:\", i)\n",
    "        temp_loss = sess.run(loss, feed_dict={x_holder: rand_x, y_holder: rand_y})\n",
    "        print(\"Loss= \", str(temp_loss))\n",
    "        loss_batch.append(temp_loss)\n",
    "    \n",
    "sess.close()"
   ]
  },
  {
   "cell_type": "code",
   "execution_count": 8,
   "metadata": {},
   "outputs": [
    {
     "data": {
      "image/png": "[encoded data removed]",
      "text/plain": [
       "<Figure size 432x288 with 1 Axes>"
      ]
     },
     "metadata": {
      "needs_background": "light"
     },
     "output_type": "display_data"
    }
   ],
   "source": [
    "#plt.plot(range(0, 100, 5), loss_st, 'b-', label='Stochastic Loss')\n",
    "plt.plot(range(0, 100, 5), loss_batch, 'k', label='Batch Loss, size=16')\n",
    "plt.legend(loc='upper right', prop={'size': 11})\n",
    "plt.show()"
   ]
  },
  {
   "cell_type": "code",
   "execution_count": null,
   "metadata": {},
   "outputs": [],
   "source": []
  }
 ],
 "metadata": {
  "kernelspec": {
   "display_name": "Python 3",
   "language": "python",
   "name": "python3"
  },
  "language_info": {
   "codemirror_mode": {
    "name": "ipython",
    "version": 3
   },
   "file_extension": ".py",
   "mimetype": "text/x-python",
   "name": "python",
   "nbconvert_exporter": "python",
   "pygments_lexer": "ipython3",
   "version": "3.6.5"
  }
 },
 "nbformat": 4,
 "nbformat_minor": 2
}
