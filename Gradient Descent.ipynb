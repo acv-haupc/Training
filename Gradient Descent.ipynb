{
 "cells": [
  {
   "cell_type": "code",
   "execution_count": null,
   "metadata": {},
   "outputs": [],
   "source": [
    "#libary\n",
    "import tensorflow as tf\n",
    "import numpy as np\n",
    "import matplotlib.pyplot as plt\n",
    "import pandas as pd"
   ]
  },
  {
   "cell_type": "code",
   "execution_count": null,
   "metadata": {},
   "outputs": [],
   "source": [
    "#reset the graph(memory) of tensorflow\n",
    "tf.reset_default_graph()"
   ]
  },
  {
   "cell_type": "code",
   "execution_count": null,
   "metadata": {},
   "outputs": [],
   "source": [
    "#Load Data\n",
    "pf_train = pd.read_csv('train.csv')\n",
    "pf_test = pd.read_csv('test.csv')\n",
    "pf_train.head()"
   ]
  },
  {
   "cell_type": "code",
   "execution_count": null,
   "metadata": {},
   "outputs": [],
   "source": [
    "#convert data\n",
    "x_train = pf_train['x']\n",
    "y_train = pf_train['y']\n",
    "x_test = pf_test['x']\n",
    "y_test = pf_test['y']\n",
    "x_train = np.array(x_train)\n",
    "y_train = np.array(y_train)\n",
    "x_test = np.array(x_test)\n",
    "y_test = np.array(y_test)\n",
    "print(type(x_train))"
   ]
  },
  {
   "cell_type": "code",
   "execution_count": null,
   "metadata": {},
   "outputs": [],
   "source": [
    "#Load shape data\n",
    "def Reshape_model(features,labels):\n",
    "    n_training_samples = features.shape[0]\n",
    "    n_dim = features.shape[1]\n",
    "    f = np.reshape(np.c_[np.ones(n_training_samples),features],[n_training_samples,n_dim + 1])\n",
    "    l = np.reshape(labels,[n_training_samples,1])\n",
    "    return f, l"
   ]
  },
  {
   "cell_type": "code",
   "execution_count": null,
   "metadata": {},
   "outputs": [],
   "source": [
    "#create place holder and variable\n",
    "X = tf.placeholder(tf.float32,[None,n_dim])\n",
    "Y = tf.placeholder(tf.float32,[None,1])\n",
    "W = tf.Variable(tf.ones([n_dim,1]))\n",
    "learning_rate = 0.01\n",
    "training_epoch = 50\n",
    "init = "
   ]
  },
  {
   "cell_type": "code",
   "execution_count": null,
   "metadata": {},
   "outputs": [],
   "source": [
    "#pre-processing\n",
    "#data\n",
    "\n",
    "#create x = [1, 2, 3]\n",
    "#x = tf.constant([1.0, 2.0, 3.0])\n",
    "\n",
    "#create y = [2, 4, 6]\n",
    "#y = tf.constant([2.0, 4.0, 6.0])\n",
    "\n",
    "#print(x.shape)\n",
    "\n",
    "#variable w\n",
    "#create w with normal type in tensorflow w = [1]\n",
    "with tf.variable_scope(\"foo\"):\n",
    "    w = tf.get_variable(\"w\", [1.0, ],\n",
    "                    initializer=tf.random_normal_initializer())\n",
    "#print(w.shape)\n",
    "#Initialize learning rate and epoch train\n",
    "\n",
    "\n",
    "learning_rate = 0.01\n",
    "training_epoch = 200\n",
    "w.shape"
   ]
  },
  {
   "cell_type": "code",
   "execution_count": null,
   "metadata": {},
   "outputs": [],
   "source": [
    "#compute output\n",
    "y_hat = tf.multiply(x_train, w)\n",
    "loss = tf.reduce_mean(tf.square(y_hat - y_train))\n",
    "train = tf.train.GradientDescentOptimizer(learning_rate).minimize(loss)"
   ]
  },
  {
   "cell_type": "code",
   "execution_count": null,
   "metadata": {},
   "outputs": [],
   "source": [
    "cost = []\n",
    "init_op = tf.global_variables_initializer()\n",
    "sess = tf.Session()\n",
    "sess.run(init_op)\n",
    "for i in range(training_epoch):\n",
    "    _, loss_value = sess.run((train, loss))\n",
    "    cost = np.append(cost,sess.run(loss))\n",
    "    if i % 5 == 0:\n",
    "        print('epoch:', i,'Loss value:', loss_value)\n",
    "#print(cost)\n",
    "sess.close()"
   ]
  },
  {
   "cell_type": "code",
   "execution_count": null,
   "metadata": {},
   "outputs": [],
   "source": [
    "plt.plot(range(len(cost)), cost)\n",
    "plt.xlabel('epoch')\n",
    "plt.ylabel('loss')\n",
    "plt.show()"
   ]
  },
  {
   "cell_type": "code",
   "execution_count": null,
   "metadata": {},
   "outputs": [],
   "source": []
  }
 ],
 "metadata": {
  "kernelspec": {
   "display_name": "Python 3",
   "language": "python",
   "name": "python3"
  },
  "language_info": {
   "codemirror_mode": {
    "name": "ipython",
    "version": 3
   },
   "file_extension": ".py",
   "mimetype": "text/x-python",
   "name": "python",
   "nbconvert_exporter": "python",
   "pygments_lexer": "ipython3",
   "version": "3.6.5"
  }
 },
 "nbformat": 4,
 "nbformat_minor": 2
}
