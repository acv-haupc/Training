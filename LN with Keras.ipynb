{
 "cells": [
  {
   "cell_type": "code",
   "execution_count": 1,
   "metadata": {},
   "outputs": [
    {
     "name": "stderr",
     "output_type": "stream",
     "text": [
      "/home/hau/anaconda3/lib/python3.6/site-packages/h5py/__init__.py:36: FutureWarning: Conversion of the second argument of issubdtype from `float` to `np.floating` is deprecated. In future, it will be treated as `np.float64 == np.dtype(float).type`.\n",
      "  from ._conv import register_converters as _register_converters\n",
      "Using TensorFlow backend.\n"
     ]
    }
   ],
   "source": [
    "import numpy as np\n",
    "from keras.models import Sequential    #import model in keras\n",
    "from keras.layers import Dense, Activation \n",
    "from keras import optimizers  #optimizer function\n",
    "from keras.utils import plot_model  #"
   ]
  },
  {
   "cell_type": "code",
   "execution_count": 7,
   "metadata": {},
   "outputs": [
    {
     "name": "stdout",
     "output_type": "stream",
     "text": [
      "Train on 75 samples, validate on 25 samples\n",
      "Epoch 1/50\n",
      "75/75 [==============================] - 0s 2ms/step - loss: 12.9968 - val_loss: 0.5743\n",
      "Epoch 2/50\n",
      "75/75 [==============================] - 0s 188us/step - loss: 0.3811 - val_loss: 0.0503\n",
      "Epoch 3/50\n",
      "75/75 [==============================] - 0s 188us/step - loss: 0.0704 - val_loss: 0.0678\n",
      "Epoch 4/50\n",
      "75/75 [==============================] - 0s 194us/step - loss: 0.0623 - val_loss: 0.0798\n",
      "Epoch 5/50\n",
      "75/75 [==============================] - 0s 212us/step - loss: 0.0620 - val_loss: 0.0838\n",
      "Epoch 6/50\n",
      "75/75 [==============================] - 0s 183us/step - loss: 0.0614 - val_loss: 0.0751\n",
      "Epoch 7/50\n",
      "75/75 [==============================] - 0s 143us/step - loss: 0.0608 - val_loss: 0.0767\n",
      "Epoch 8/50\n",
      "75/75 [==============================] - 0s 195us/step - loss: 0.0620 - val_loss: 0.0827\n",
      "Epoch 9/50\n",
      "75/75 [==============================] - 0s 106us/step - loss: 0.0603 - val_loss: 0.0758\n",
      "Epoch 10/50\n",
      "75/75 [==============================] - 0s 187us/step - loss: 0.0608 - val_loss: 0.0771\n",
      "Epoch 11/50\n",
      "75/75 [==============================] - 0s 143us/step - loss: 0.0602 - val_loss: 0.0867\n",
      "Epoch 12/50\n",
      "75/75 [==============================] - 0s 212us/step - loss: 0.0608 - val_loss: 0.0804\n",
      "Epoch 13/50\n",
      "75/75 [==============================] - 0s 178us/step - loss: 0.0603 - val_loss: 0.0871\n",
      "Epoch 14/50\n",
      "75/75 [==============================] - 0s 186us/step - loss: 0.0606 - val_loss: 0.0896\n",
      "Epoch 15/50\n",
      "75/75 [==============================] - 0s 215us/step - loss: 0.0605 - val_loss: 0.0829\n",
      "Epoch 16/50\n",
      "75/75 [==============================] - 0s 201us/step - loss: 0.0607 - val_loss: 0.0785\n",
      "Epoch 17/50\n",
      "75/75 [==============================] - 0s 138us/step - loss: 0.0604 - val_loss: 0.0776\n",
      "Epoch 18/50\n",
      "75/75 [==============================] - 0s 228us/step - loss: 0.0606 - val_loss: 0.0804\n",
      "Epoch 19/50\n",
      "75/75 [==============================] - 0s 174us/step - loss: 0.0599 - val_loss: 0.0851\n",
      "Epoch 20/50\n",
      "75/75 [==============================] - 0s 248us/step - loss: 0.0601 - val_loss: 0.0797\n",
      "Epoch 21/50\n",
      "75/75 [==============================] - 0s 176us/step - loss: 0.0601 - val_loss: 0.0731\n",
      "Epoch 22/50\n",
      "75/75 [==============================] - 0s 205us/step - loss: 0.0609 - val_loss: 0.0843\n",
      "Epoch 23/50\n",
      "75/75 [==============================] - 0s 154us/step - loss: 0.0601 - val_loss: 0.0890\n",
      "Epoch 24/50\n",
      "75/75 [==============================] - 0s 190us/step - loss: 0.0601 - val_loss: 0.0730\n",
      "Epoch 25/50\n",
      "75/75 [==============================] - 0s 159us/step - loss: 0.0602 - val_loss: 0.0891\n",
      "Epoch 26/50\n",
      "75/75 [==============================] - 0s 138us/step - loss: 0.0604 - val_loss: 0.0854\n",
      "Epoch 27/50\n",
      "75/75 [==============================] - 0s 143us/step - loss: 0.0609 - val_loss: 0.0785\n",
      "Epoch 28/50\n",
      "75/75 [==============================] - 0s 170us/step - loss: 0.0610 - val_loss: 0.0856\n",
      "Epoch 29/50\n",
      "75/75 [==============================] - 0s 182us/step - loss: 0.0619 - val_loss: 0.0886\n",
      "Epoch 30/50\n",
      "75/75 [==============================] - 0s 163us/step - loss: 0.0615 - val_loss: 0.0812\n",
      "Epoch 31/50\n",
      "75/75 [==============================] - 0s 190us/step - loss: 0.0614 - val_loss: 0.0814\n",
      "Epoch 32/50\n",
      "75/75 [==============================] - 0s 97us/step - loss: 0.0600 - val_loss: 0.0870\n",
      "Epoch 33/50\n",
      "75/75 [==============================] - 0s 180us/step - loss: 0.0606 - val_loss: 0.0845\n",
      "Epoch 34/50\n",
      "75/75 [==============================] - 0s 225us/step - loss: 0.0604 - val_loss: 0.0768\n",
      "Epoch 35/50\n",
      "75/75 [==============================] - 0s 123us/step - loss: 0.0608 - val_loss: 0.0873\n",
      "Epoch 36/50\n",
      "75/75 [==============================] - 0s 114us/step - loss: 0.0605 - val_loss: 0.0851\n",
      "Epoch 37/50\n",
      "75/75 [==============================] - 0s 172us/step - loss: 0.0604 - val_loss: 0.0849\n",
      "Epoch 38/50\n",
      "75/75 [==============================] - 0s 244us/step - loss: 0.0604 - val_loss: 0.0814\n",
      "Epoch 39/50\n",
      "75/75 [==============================] - 0s 154us/step - loss: 0.0604 - val_loss: 0.0734\n",
      "Epoch 40/50\n",
      "75/75 [==============================] - 0s 250us/step - loss: 0.0603 - val_loss: 0.0816\n",
      "Epoch 41/50\n",
      "75/75 [==============================] - 0s 162us/step - loss: 0.0606 - val_loss: 0.0704\n",
      "Epoch 42/50\n",
      "75/75 [==============================] - 0s 126us/step - loss: 0.0605 - val_loss: 0.0802\n",
      "Epoch 43/50\n",
      "75/75 [==============================] - 0s 112us/step - loss: 0.0600 - val_loss: 0.0841\n",
      "Epoch 44/50\n",
      "75/75 [==============================] - 0s 222us/step - loss: 0.0615 - val_loss: 0.0792\n",
      "Epoch 45/50\n",
      "75/75 [==============================] - 0s 140us/step - loss: 0.0605 - val_loss: 0.0780\n",
      "Epoch 46/50\n",
      "75/75 [==============================] - 0s 195us/step - loss: 0.0606 - val_loss: 0.0723\n",
      "Epoch 47/50\n",
      "75/75 [==============================] - 0s 184us/step - loss: 0.0618 - val_loss: 0.0794\n",
      "Epoch 48/50\n",
      "75/75 [==============================] - 0s 242us/step - loss: 0.0601 - val_loss: 0.0847\n",
      "Epoch 49/50\n",
      "75/75 [==============================] - 0s 160us/step - loss: 0.0605 - val_loss: 0.0866\n",
      "Epoch 50/50\n",
      "75/75 [==============================] - 0s 226us/step - loss: 0.0608 - val_loss: 0.0771\n"
     ]
    }
   ],
   "source": [
    "# create random data\n",
    "X = X = np.random.rand(100, 2)\n",
    "#Y = 2*x[0]**2 + x[1]*3 + 4\n",
    "Y = 2* (X[:,0])**2 + 3 * X[:,1] + 4 + .2*np.random.randn(100) # noise added\n",
    "\n",
    "#create model\n",
    "model = Sequential()\n",
    "\n",
    "#input 100x2 matrix, algorith = linear regression\n",
    "#create fully connected layer\n",
    "model.add(Dense(1, input_shape = (2, ), activation = 'linear'))\n",
    "\n",
    "#stochatics gradient descent with learning rate = 0.1\n",
    "sgd = optimizers.SGD(lr = 0.1)\n",
    "\n",
    "#mean square error\n",
    "model.compile(loss='mse', optimizer=sgd)\n",
    "\n",
    "#use k-folds validation with 1/4 and 3/4 to train and test\n",
    "history = model.fit(X, Y, validation_split=0.25, epochs=50, batch_size=16, verbose=1)"
   ]
  },
  {
   "cell_type": "code",
   "execution_count": 5,
   "metadata": {
    "scrolled": true
   },
   "outputs": [
    {
     "data": {
      "text/plain": [
       "<Figure size 640x480 with 1 Axes>"
      ]
     },
     "metadata": {},
     "output_type": "display_data"
    }
   ],
   "source": [
    "#visualize\n",
    "import matplotlib.pyplot as plt\n",
    "plt.plot(history.history['loss'])\n",
    "plt.plot(history.history['val_loss'])\n",
    "plt.title('Model loss')\n",
    "plt.ylabel('Loss')\n",
    "plt.xlabel('Epoch')\n",
    "plt.legend(['Train', 'Test'], loc='upper right')\n",
    "plt.show()"
   ]
  },
  {
   "cell_type": "code",
   "execution_count": null,
   "metadata": {},
   "outputs": [],
   "source": []
  },
  {
   "cell_type": "code",
   "execution_count": 8,
   "metadata": {},
   "outputs": [],
   "source": [
    "\n",
    "p1=np.array([0,0])\n",
    "p2=np.array([10,10])\n",
    "p3=np.array([5,7])\n",
    "d=np.cross(p2-p1,p3-p1)/np.linalg.norm(p2-p1)"
   ]
  },
  {
   "cell_type": "markdown",
   "metadata": {},
   "source": [
    "distance of a point from a line"
   ]
  },
  {
   "cell_type": "code",
   "execution_count": 12,
   "metadata": {},
   "outputs": [
    {
     "name": "stdout",
     "output_type": "stream",
     "text": [
      "[30 10]\n"
     ]
    }
   ],
   "source": [
    "a = np.array([1, 10, 40, 30, 10])\n",
    "b = np.array([])\n",
    "c = np.array([])\n",
    "d = np.array([35, 27])\n",
    "b = a[1:3]\n",
    "c = a[3:]\n",
    "print(c)"
   ]
  },
  {
   "cell_type": "code",
   "execution_count": 13,
   "metadata": {},
   "outputs": [
    {
     "name": "stdout",
     "output_type": "stream",
     "text": [
      "13.590154807518115\n"
     ]
    }
   ],
   "source": [
    "dis=np.cross(c-b,d-b)/np.linalg.norm(c-b)\n",
    "print(dis)"
   ]
  },
  {
   "cell_type": "code",
   "execution_count": 14,
   "metadata": {},
   "outputs": [
    {
     "data": {
      "text/plain": [
       "(4, 2)"
      ]
     },
     "execution_count": 14,
     "metadata": {},
     "output_type": "execute_result"
    }
   ],
   "source": [
    "X = np.array([[1, 1], [1, 2], [2, 2], [2, 3]])\n",
    "X.shape"
   ]
  },
  {
   "cell_type": "code",
   "execution_count": 18,
   "metadata": {},
   "outputs": [
    {
     "data": {
      "image/png": "[encoded data removed]",
      "text/plain": [
       "<Figure size 432x288 with 1 Axes>"
      ]
     },
     "metadata": {
      "needs_background": "light"
     },
     "output_type": "display_data"
    }
   ],
   "source": [
    "t = np.array([809, 963, 1054])\n",
    "v = np.array([2033, 2049, 1902])\n",
    "plt.plot(t, v, linestyle='solid')\n",
    "plt.show()"
   ]
  },
  {
   "cell_type": "code",
   "execution_count": 20,
   "metadata": {},
   "outputs": [
    {
     "data": {
      "text/plain": [
       "0.5150540255869405"
      ]
     },
     "execution_count": 20,
     "metadata": {},
     "output_type": "execute_result"
    }
   ],
   "source": [
    "t = t.reshape(-1, 1)\n",
    "v = v.reshape(-1, 1)\n",
    "from sklearn.linear_model import LinearRegression\n",
    "reg = LinearRegression().fit(t,v)\n",
    "reg.score(t,v)"
   ]
  },
  {
   "cell_type": "code",
   "execution_count": null,
   "metadata": {},
   "outputs": [],
   "source": []
  }
 ],
 "metadata": {
  "kernelspec": {
   "display_name": "Python 3",
   "language": "python",
   "name": "python3"
  },
  "language_info": {
   "codemirror_mode": {
    "name": "ipython",
    "version": 3
   },
   "file_extension": ".py",
   "mimetype": "text/x-python",
   "name": "python",
   "nbconvert_exporter": "python",
   "pygments_lexer": "ipython3",
   "version": "3.6.5"
  }
 },
 "nbformat": 4,
 "nbformat_minor": 2
}
