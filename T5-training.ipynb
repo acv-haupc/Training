{
 "cells": [
  {
   "cell_type": "code",
   "execution_count": 1,
   "metadata": {},
   "outputs": [],
   "source": [
    "import numpy as np\n",
    "import matplotlib.pyplot as plt\n",
    "import math"
   ]
  },
  {
   "cell_type": "code",
   "execution_count": 69,
   "metadata": {},
   "outputs": [],
   "source": [
    "x_train = np.array([1,2,3,4,5,6,7,8,9,10])\n",
    "y_train = np.array([2,4,6,8,10,12,14,16,18,20])"
   ]
  },
  {
   "cell_type": "code",
   "execution_count": 192,
   "metadata": {},
   "outputs": [],
   "source": [
    "def forward(x,w,b):\n",
    "    return x*w + b"
   ]
  },
  {
   "cell_type": "code",
   "execution_count": 9,
   "metadata": {},
   "outputs": [],
   "source": [
    "def loss(x,y):\n",
    "    y_hat = forward(x)\n",
    "    return (y-y_hat)**2"
   ]
  },
  {
   "cell_type": "code",
   "execution_count": 5,
   "metadata": {},
   "outputs": [],
   "source": [
    "def grad(x,y):\n",
    "    return 2*x*(w*x-y)"
   ]
  },
  {
   "cell_type": "code",
   "execution_count": 6,
   "metadata": {},
   "outputs": [],
   "source": [
    "result = []"
   ]
  },
  {
   "cell_type": "code",
   "execution_count": 177,
   "metadata": {},
   "outputs": [],
   "source": [
    "XXX = np.array([[0.50, 0.75, 1.00, 1.25, 1.50, 1.75, 1.75, 2.00, 2.25, 2.50, \n",
    "              2.75, 3.00, 3.25, 3.50, 4.00, 4.25, 4.50, 4.75, 5.00, 5.50]])\n",
    "yyy = np.array([0, 0, 0, 0, 0, 0, 1, 0, 1, 0, 1, 0, 1, 0, 1, 1, 1, 1, 1, 1])"
   ]
  },
  {
   "cell_type": "code",
   "execution_count": 70,
   "metadata": {},
   "outputs": [],
   "source": [
    "w = 1.0\n",
    "w_list = []\n",
    "loss_list = []\n",
    "for w in range(20):\n",
    "    for xj,yj in zip(x_train,y_train):\n",
    "        g = grad(xj,yj)\n",
    "        w = w-0.01*w\n",
    "        l = loss(xj,yj)\n",
    "        f = forward(xj)\n",
    "    w_list.append(w)\n",
    "    loss_list.append(l)"
   ]
  },
  {
   "cell_type": "code",
   "execution_count": 71,
   "metadata": {},
   "outputs": [
    {
     "data": {
      "image/png": "[encoded data removed]",
      "text/plain": [
       "<Figure size 432x288 with 1 Axes>"
      ]
     },
     "metadata": {
      "needs_background": "light"
     },
     "output_type": "display_data"
    }
   ],
   "source": [
    "plt.plot(w_list, loss_list)\n",
    "plt.xlabel('w')\n",
    "plt.ylabel('y')\n",
    "plt.show()"
   ]
  },
  {
   "cell_type": "code",
   "execution_count": 126,
   "metadata": {},
   "outputs": [
    {
     "data": {
      "image/png": "[encoded data removed]",
      "text/plain": [
       "<Figure size 432x288 with 1 Axes>"
      ]
     },
     "metadata": {
      "needs_background": "light"
     },
     "output_type": "display_data"
    }
   ],
   "source": [
    "plt.plot(XXX, yyy, marker='x', linestyle='None', mec='r', mfc='w')\n",
    "plt.xlabel('x_1');\n",
    "plt.ylabel('x_2');\n",
    "plt.show()"
   ]
  },
  {
   "cell_type": "code",
   "execution_count": 127,
   "metadata": {},
   "outputs": [],
   "source": [
    "def sigmoid(z):\n",
    "    return 1/(1+np.exp(-z))"
   ]
  },
  {
   "cell_type": "code",
   "execution_count": 137,
   "metadata": {},
   "outputs": [],
   "source": [
    "def logistics_forward(x,w,b):\n",
    "    z = x*w+b\n",
    "    return sigmoid(z)"
   ]
  },
  {
   "cell_type": "code",
   "execution_count": 144,
   "metadata": {},
   "outputs": [],
   "source": [
    "def grad_logistics_w(x,y,w,b):\n",
    "    pi = logistics_forward(x,w,b)\n",
    "    gr = (y-pi)*x\n",
    "    return -gr"
   ]
  },
  {
   "cell_type": "code",
   "execution_count": 147,
   "metadata": {},
   "outputs": [],
   "source": [
    "def grad_logistics_b(x,y,w,b):\n",
    "    bi = logistics_forward(x,w,b)\n",
    "    be = y-bi\n",
    "    return -be"
   ]
  },
  {
   "cell_type": "code",
   "execution_count": 183,
   "metadata": {},
   "outputs": [],
   "source": [
    "ww = -100\n",
    "b = 100\n",
    "ww_list = []\n",
    "ll_list = []\n",
    "bb_list = []\n",
    "for ww in range(10000):\n",
    "    for i in range(len(x_train)):\n",
    "        g_w = grad_logistics_w(x_train[i],y_train[i],ww,b)\n",
    "        g_b = grad_logistics_b(x_train[i],y_train[i],ww,b)\n",
    "        ww = ww-0.1*g_w\n",
    "        b = b - 0.1*g_b\n",
    "#         ll = compute_cost(xj,yj,0.1)"
   ]
  },
  {
   "cell_type": "code",
   "execution_count": 186,
   "metadata": {},
   "outputs": [
    {
     "data": {
      "text/plain": [
       "10070.5"
      ]
     },
     "execution_count": 186,
     "metadata": {},
     "output_type": "execute_result"
    }
   ],
   "source": [
    "ww"
   ]
  },
  {
   "cell_type": "code",
   "execution_count": 151,
   "metadata": {},
   "outputs": [],
   "source": [
    "ite = 10000\n",
    "eta= 0.01"
   ]
  },
  {
   "cell_type": "code",
   "execution_count": 152,
   "metadata": {},
   "outputs": [],
   "source": [
    "def compute_cost(X, y, theta):\n",
    "    # number of training examples\n",
    "    m = y.size\n",
    "    # activation\n",
    "    h = sigmoid(np.dot(X, theta))\n",
    "    # cost\n",
    "    j = - np.sum(y * np.log(h) + (1 -  y) * np.log(1 - h)) / m\n",
    "    return j"
   ]
  },
  {
   "cell_type": "code",
   "execution_count": 78,
   "metadata": {},
   "outputs": [
    {
     "data": {
      "text/plain": [
       "14.14417545760103"
      ]
     },
     "execution_count": 78,
     "metadata": {},
     "output_type": "execute_result"
    }
   ],
   "source": [
    "compute_cost(XXX[1],yyy[1],eta)"
   ]
  },
  {
   "cell_type": "code",
   "execution_count": 230,
   "metadata": {},
   "outputs": [],
   "source": [
    "a = np.arange(0.,5.,0.1)\n",
    "c = [sigmoid(forward(i,w,b)) for i in a]\n",
    "    "
   ]
  },
  {
   "cell_type": "code",
   "execution_count": 231,
   "metadata": {},
   "outputs": [
    {
     "data": {
      "image/png": "[encoded data removed]",
      "text/plain": [
       "<Figure size 432x288 with 1 Axes>"
      ]
     },
     "metadata": {
      "needs_background": "light"
     },
     "output_type": "display_data"
    }
   ],
   "source": [
    "plt.plot(a,c)\n",
    "plt.xlabel('w')\n",
    "plt.ylabel('y')\n",
    "plt.show()"
   ]
  },
  {
   "cell_type": "code",
   "execution_count": 229,
   "metadata": {},
   "outputs": [
    {
     "name": "stdout",
     "output_type": "stream",
     "text": [
      "epochs  9999 x = 0.1 y =  0.013892679271032826 1.6239260567941354 -4.424795768663652\n"
     ]
    }
   ],
   "source": [
    "def gradient_loss_sg_w(x,w,b, y):\n",
    "    return -(y - sigmoid(forward(x,w,b)))*x\n",
    "def gradient_loss_sg_b(x,w,b, y):\n",
    "    return -(y - sigmoid(forward(x,w,b)))\n",
    "\n",
    "X = [0.50, 0.75, 1.00, 1.25, 1.50, 1.75, 1.75, 2.00, 2.25, 2.50, \n",
    "2.75, 3.00, 3.25, 3.50, 4.00, 4.25, 4.50, 4.75, 5.00, 5.50]\n",
    "Y = [0, 0, 0, 0, 0, 0, 1, 0, 1, 0, 1, 0, 1, 0, 1, 1, 1, 1, 1, 1]\n",
    "\n",
    "\n",
    "w = -100\n",
    "b = 100\n",
    "rate = 0.1\n",
    "num_epochs = 10000\n",
    "for j in range(num_epochs):\n",
    "    for i in range(len(X)):\n",
    "        gra_w = gradient_loss_sg_w(X[i], w, b, Y[i])\n",
    "        gra_b = gradient_loss_sg_b(X[i], w, b, Y[i])\n",
    "        w = w - rate*gra_w\n",
    "        b = b - rate*gra_b\n",
    "print(\"epochs \", j, \"x = 0.1\", \"y = \", sigmoid(forward(0.1,w,b)),w,b)"
   ]
  },
  {
   "cell_type": "code",
   "execution_count": 221,
   "metadata": {},
   "outputs": [
    {
     "data": {
      "text/plain": [
       "6.858523951881899e-06"
      ]
     },
     "execution_count": 221,
     "metadata": {},
     "output_type": "execute_result"
    }
   ],
   "source": [
    "tanh(forward(5,tanh_w,tanh_b))"
   ]
  },
  {
   "cell_type": "code",
   "execution_count": 207,
   "metadata": {},
   "outputs": [],
   "source": [
    "def model(acti, w, b, rate, epochs, X,Y):\n",
    "    def loss_w(x,w,b,y):\n",
    "        return -(y-acti(forward(x,w,b)))*x\n",
    "    def loss_b(x,w,b,y):\n",
    "        return -(y-acti(forward(x,w,b)))\n",
    "    for j in range(epochs):\n",
    "        for i in range(len(X)):\n",
    "            gra_w = loss_w(X[i], w, b, Y[i])\n",
    "            gra_b = loss_b(X[i], w, b, Y[i])\n",
    "            w = w - rate*gra_w\n",
    "            b = b - rate*gra_b\n",
    "    return w,b"
   ]
  },
  {
   "cell_type": "code",
   "execution_count": 222,
   "metadata": {},
   "outputs": [],
   "source": [
    "def tanh(x):\n",
    "    return ((np.exp(x)-np.exp(-x))/(np.exp(x)+np.exp(-x)))"
   ]
  },
  {
   "cell_type": "code",
   "execution_count": 223,
   "metadata": {},
   "outputs": [],
   "source": [
    "tanh_w,tanh_b = model(tanh, w, b, rate, num_epochs, X,Y)"
   ]
  },
  {
   "cell_type": "code",
   "execution_count": 226,
   "metadata": {},
   "outputs": [
    {
     "data": {
      "image/png": "[encoded data removed]",
      "text/plain": [
       "<Figure size 432x288 with 1 Axes>"
      ]
     },
     "metadata": {
      "needs_background": "light"
     },
     "output_type": "display_data"
    }
   ],
   "source": [
    "plt.plot(a,c)\n",
    "plt.xlabel('w')\n",
    "plt.ylabel('y')\n",
    "plt.show()"
   ]
  },
  {
   "cell_type": "code",
   "execution_count": null,
   "metadata": {},
   "outputs": [],
   "source": []
  }
 ],
 "metadata": {
  "kernelspec": {
   "display_name": "Python 3",
   "language": "python",
   "name": "python3"
  },
  "language_info": {
   "codemirror_mode": {
    "name": "ipython",
    "version": 3
   },
   "file_extension": ".py",
   "mimetype": "text/x-python",
   "name": "python",
   "nbconvert_exporter": "python",
   "pygments_lexer": "ipython3",
   "version": "3.6.5"
  }
 },
 "nbformat": 4,
 "nbformat_minor": 2
}
