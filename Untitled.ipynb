{
  "nbformat": 4,
  "nbformat_minor": 0,
  "metadata": {
    "colab": {
      "name": "Untitled.ipynb",
      "version": "0.3.2",
      "provenance": [],
      "collapsed_sections": []
    },
    "kernelspec": {
      "name": "python3",
      "display_name": "Python 3"
    },
    "accelerator": "GPU"
  },
  "cells": [
    {
      "metadata": {
        "id": "OzReWsA1VwzG",
        "colab_type": "code",
        "colab": {}
      },
      "cell_type": "code",
      "source": [
        ""
      ],
      "execution_count": 0,
      "outputs": []
    },
    {
      "metadata": {
        "id": "GW_mxzT9VwzK",
        "colab_type": "code",
        "colab": {
          "base_uri": "https://localhost:8080/",
          "height": 34
        },
        "outputId": "1ddd4162-85ee-4992-f519-2f51028a3a1f"
      },
      "cell_type": "code",
      "source": [
        "import numpy as np\n",
        "import tensorflow\n",
        "import pandas as pd\n",
        "import keras\n",
        "import matplotlib.pyplot as plt"
      ],
      "execution_count": 1,
      "outputs": [
        {
          "output_type": "stream",
          "text": [
            "Using TensorFlow backend.\n"
          ],
          "name": "stderr"
        }
      ]
    },
    {
      "metadata": {
        "id": "EJlOVwIqVwzN",
        "colab_type": "code",
        "colab": {}
      },
      "cell_type": "code",
      "source": [
        "### import libary from keras for model\n",
        "from keras.models import Sequential\n",
        "from keras.layers import Dense, Dropout, Flatten\n",
        "from keras.layers import Conv2D, MaxPooling2D\n",
        "from keras.losses import categorical_crossentropy"
      ],
      "execution_count": 0,
      "outputs": []
    },
    {
      "metadata": {
        "id": "wncoVKd2VwzP",
        "colab_type": "code",
        "colab": {}
      },
      "cell_type": "code",
      "source": [
        "#variables\n",
        "batch_size = 32\n",
        "num_classes = 10\n",
        "epochs = 15"
      ],
      "execution_count": 0,
      "outputs": []
    },
    {
      "metadata": {
        "id": "Bp8uIfGQVwzS",
        "colab_type": "code",
        "colab": {}
      },
      "cell_type": "code",
      "source": [
        "#weight and height of image training\n",
        "img_rows,img_cols = 28,28"
      ],
      "execution_count": 0,
      "outputs": []
    },
    {
      "metadata": {
        "id": "mjR3Cl4WVwzV",
        "colab_type": "code",
        "colab": {
          "base_uri": "https://localhost:8080/",
          "height": 51
        },
        "outputId": "dc3a33ea-07ef-404a-ce1c-fa2ae1c3f917"
      },
      "cell_type": "code",
      "source": [
        "#loading dataset\n",
        "from keras.datasets import mnist\n",
        "(x_train, y_train), (x_test,y_test) = mnist.load_data()"
      ],
      "execution_count": 5,
      "outputs": [
        {
          "output_type": "stream",
          "text": [
            "Downloading data from https://s3.amazonaws.com/img-datasets/mnist.npz\n",
            "11493376/11490434 [==============================] - 0s 0us/step\n"
          ],
          "name": "stdout"
        }
      ]
    },
    {
      "metadata": {
        "id": "1dIcAYA4VwzX",
        "colab_type": "code",
        "colab": {}
      },
      "cell_type": "code",
      "source": [
        "### check chanel of image\n",
        "from keras import backend as K\n",
        "if K.image_data_format() == 'channels_first':\n",
        "    x_train = x_train.reshape(x_train.shape[0], 1, img_rows, img_cols)\n",
        "    x_test = x_test.reshape(x_test.shape[0], 1, img_rows, img_cols)\n",
        "    input_shape = (1, img_rows, img_cols)\n",
        "else:\n",
        "    x_train = x_train.reshape(x_train.shape[0], img_rows, img_cols, 1)\n",
        "    x_test = x_test.reshape(x_test.shape[0], img_rows, img_cols, 1)\n",
        "    input_shape = (img_rows, img_cols, 1)"
      ],
      "execution_count": 0,
      "outputs": []
    },
    {
      "metadata": {
        "id": "73tQ_a7LVwza",
        "colab_type": "code",
        "colab": {}
      },
      "cell_type": "code",
      "source": [
        "#normalize data\n",
        "x_train = x_train.astype('float32')\n",
        "x_test = x_test.astype('float32')\n",
        "x_train /= 255\n",
        "x_test /= 255"
      ],
      "execution_count": 0,
      "outputs": []
    },
    {
      "metadata": {
        "id": "X_eP-KKdVwzd",
        "colab_type": "code",
        "colab": {
          "base_uri": "https://localhost:8080/",
          "height": 85
        },
        "outputId": "a01f44f4-a962-48a2-c3d2-bcd6abf319af"
      },
      "cell_type": "code",
      "source": [
        "print('x_train shape:', x_train.shape)\n",
        "print(x_train.shape[0], 'train samples')\n",
        "print(x_test.shape[0], 'test samples')\n",
        "print(x_test.shape)"
      ],
      "execution_count": 8,
      "outputs": [
        {
          "output_type": "stream",
          "text": [
            "x_train shape: (60000, 28, 28, 1)\n",
            "60000 train samples\n",
            "10000 test samples\n",
            "(10000, 28, 28, 1)\n"
          ],
          "name": "stdout"
        }
      ]
    },
    {
      "metadata": {
        "id": "rMj-UZSgVwzj",
        "colab_type": "code",
        "colab": {}
      },
      "cell_type": "code",
      "source": [
        "#convert output to category\n",
        "# from keras.utils import to_categorical\n",
        "y_train = keras.utils.to_categorical(y_train, num_classes)\n",
        "y_test = keras.utils.to_categorical(y_test, num_classes)"
      ],
      "execution_count": 0,
      "outputs": []
    },
    {
      "metadata": {
        "id": "MxUeyW6-jj6n",
        "colab_type": "code",
        "colab": {
          "base_uri": "https://localhost:8080/",
          "height": 34
        },
        "outputId": "85fb3e36-c50c-4f2d-dd2d-6508c0b10b1c"
      },
      "cell_type": "code",
      "source": [
        "y_train[0]"
      ],
      "execution_count": 24,
      "outputs": [
        {
          "output_type": "execute_result",
          "data": {
            "text/plain": [
              "array([0., 0., 0., 0., 0., 1., 0., 0., 0., 0.], dtype=float32)"
            ]
          },
          "metadata": {
            "tags": []
          },
          "execution_count": 24
        }
      ]
    },
    {
      "metadata": {
        "id": "i-oULjNlVwzm",
        "colab_type": "code",
        "colab": {
          "base_uri": "https://localhost:8080/",
          "height": 34
        },
        "outputId": "94a99196-3347-4201-c944-f3ed56f0959b"
      },
      "cell_type": "code",
      "source": [
        "x_train[0].shape"
      ],
      "execution_count": 10,
      "outputs": [
        {
          "output_type": "execute_result",
          "data": {
            "text/plain": [
              "(28, 28, 1)"
            ]
          },
          "metadata": {
            "tags": []
          },
          "execution_count": 10
        }
      ]
    },
    {
      "metadata": {
        "id": "DGJ9rfmYVwzp",
        "colab_type": "code",
        "colab": {
          "base_uri": "https://localhost:8080/",
          "height": 347
        },
        "outputId": "31d47fb6-5256-4bfc-8807-619c2f0c4bd0"
      },
      "cell_type": "code",
      "source": [
        "### visulize train data\n",
        "img = x_train[0]\n",
        "#reshape image from tensor to array\n",
        "img = img.reshape(28,28)\n",
        "plt.imshow(img)\n",
        "plt.show()"
      ],
      "execution_count": 11,
      "outputs": [
        {
          "output_type": "display_data",
          "data": {
            "image/png": "[encoded data removed]",
            "text/plain": [
              "<Figure size 576x396 with 1 Axes>"
            ]
          },
          "metadata": {
            "tags": []
          }
        }
      ]
    },
    {
      "metadata": {
        "id": "tz0mFC2mVwzu",
        "colab_type": "code",
        "colab": {}
      },
      "cell_type": "code",
      "source": [
        "### create model CNN for training\n",
        "def Model():\n",
        "    model = Sequential()\n",
        "    model.add(Conv2D(32, kernel_size=(3, 3),\n",
        "                 activation='relu',\n",
        "                 input_shape=input_shape))\n",
        "    model.add(Conv2D(64, (3, 3), activation='relu'))\n",
        "    model.add(MaxPooling2D(pool_size=(2, 2)))\n",
        "    model.add(Dropout(0.25))\n",
        "    model.add(Flatten())\n",
        "    model.add(Dense(128, activation='relu'))\n",
        "    model.add(Dropout(0.5))\n",
        "    model.add(Dense(num_classes, activation='softmax'))\n",
        "\n",
        "    return model"
      ],
      "execution_count": 0,
      "outputs": []
    },
    {
      "metadata": {
        "id": "9JNlV5H0Vwzw",
        "colab_type": "code",
        "colab": {
          "base_uri": "https://localhost:8080/",
          "height": 139
        },
        "outputId": "e7ac43e6-17ab-4234-dfc6-b24f4cb0094f"
      },
      "cell_type": "code",
      "source": [
        "cnn = Model()"
      ],
      "execution_count": 13,
      "outputs": [
        {
          "output_type": "stream",
          "text": [
            "WARNING:tensorflow:From /usr/local/lib/python3.6/dist-packages/tensorflow/python/framework/op_def_library.py:263: colocate_with (from tensorflow.python.framework.ops) is deprecated and will be removed in a future version.\n",
            "Instructions for updating:\n",
            "Colocations handled automatically by placer.\n",
            "WARNING:tensorflow:From /usr/local/lib/python3.6/dist-packages/keras/backend/tensorflow_backend.py:3445: calling dropout (from tensorflow.python.ops.nn_ops) with keep_prob is deprecated and will be removed in a future version.\n",
            "Instructions for updating:\n",
            "Please use `rate` instead of `keep_prob`. Rate should be set to `rate = 1 - keep_prob`.\n"
          ],
          "name": "stdout"
        }
      ]
    },
    {
      "metadata": {
        "id": "W8Az5-TuVwzy",
        "colab_type": "code",
        "colab": {}
      },
      "cell_type": "code",
      "source": [
        "cnn.compile(loss=categorical_crossentropy, optimizer='Adadelta', metrics=['acc'])"
      ],
      "execution_count": 0,
      "outputs": []
    },
    {
      "metadata": {
        "id": "dQ94ZrO9Vwz0",
        "colab_type": "code",
        "colab": {
          "base_uri": "https://localhost:8080/",
          "height": 615
        },
        "outputId": "738b0b43-55e6-45a8-efbd-880b5d523f30"
      },
      "cell_type": "code",
      "source": [
        "history = cnn.fit(x_train,y_train, batch_size=32, epochs=epochs, validation_data=(x_test,y_test))"
      ],
      "execution_count": 15,
      "outputs": [
        {
          "output_type": "stream",
          "text": [
            "WARNING:tensorflow:From /usr/local/lib/python3.6/dist-packages/tensorflow/python/ops/math_ops.py:3066: to_int32 (from tensorflow.python.ops.math_ops) is deprecated and will be removed in a future version.\n",
            "Instructions for updating:\n",
            "Use tf.cast instead.\n",
            "Train on 60000 samples, validate on 10000 samples\n",
            "Epoch 1/15\n",
            "60000/60000 [==============================] - 25s 419us/step - loss: 0.1855 - acc: 0.9451 - val_loss: 0.0523 - val_acc: 0.9828\n",
            "Epoch 2/15\n",
            "60000/60000 [==============================] - 20s 339us/step - loss: 0.0778 - acc: 0.9773 - val_loss: 0.0476 - val_acc: 0.9846\n",
            "Epoch 3/15\n",
            "60000/60000 [==============================] - 20s 334us/step - loss: 0.0625 - acc: 0.9813 - val_loss: 0.0335 - val_acc: 0.9886\n",
            "Epoch 4/15\n",
            "60000/60000 [==============================] - 20s 333us/step - loss: 0.0549 - acc: 0.9840 - val_loss: 0.0328 - val_acc: 0.9893\n",
            "Epoch 5/15\n",
            "60000/60000 [==============================] - 20s 331us/step - loss: 0.0499 - acc: 0.9846 - val_loss: 0.0277 - val_acc: 0.9910\n",
            "Epoch 6/15\n",
            "60000/60000 [==============================] - 20s 335us/step - loss: 0.0467 - acc: 0.9864 - val_loss: 0.0357 - val_acc: 0.9880\n",
            "Epoch 7/15\n",
            "60000/60000 [==============================] - 20s 333us/step - loss: 0.0468 - acc: 0.9873 - val_loss: 0.0313 - val_acc: 0.9901\n",
            "Epoch 8/15\n",
            "60000/60000 [==============================] - 20s 333us/step - loss: 0.0427 - acc: 0.9880 - val_loss: 0.0315 - val_acc: 0.9909\n",
            "Epoch 9/15\n",
            "60000/60000 [==============================] - 20s 332us/step - loss: 0.0421 - acc: 0.9881 - val_loss: 0.0301 - val_acc: 0.9909\n",
            "Epoch 10/15\n",
            "60000/60000 [==============================] - 20s 333us/step - loss: 0.0382 - acc: 0.9890 - val_loss: 0.0309 - val_acc: 0.9903\n",
            "Epoch 11/15\n",
            "60000/60000 [==============================] - 20s 334us/step - loss: 0.0389 - acc: 0.9888 - val_loss: 0.0318 - val_acc: 0.9899\n",
            "Epoch 12/15\n",
            "60000/60000 [==============================] - 20s 329us/step - loss: 0.0393 - acc: 0.9889 - val_loss: 0.0287 - val_acc: 0.9905\n",
            "Epoch 13/15\n",
            "60000/60000 [==============================] - 20s 332us/step - loss: 0.0374 - acc: 0.9894 - val_loss: 0.0293 - val_acc: 0.9914\n",
            "Epoch 14/15\n",
            "60000/60000 [==============================] - 20s 333us/step - loss: 0.0360 - acc: 0.9902 - val_loss: 0.0320 - val_acc: 0.9906\n",
            "Epoch 15/15\n",
            "60000/60000 [==============================] - 20s 333us/step - loss: 0.0348 - acc: 0.9899 - val_loss: 0.0304 - val_acc: 0.9916\n"
          ],
          "name": "stdout"
        }
      ]
    },
    {
      "metadata": {
        "id": "7RnGDx0YVwz4",
        "colab_type": "code",
        "colab": {
          "base_uri": "https://localhost:8080/",
          "height": 408
        },
        "outputId": "b584d94d-ca34-4a19-e8a2-70ccf71f6b6f"
      },
      "cell_type": "code",
      "source": [
        "cnn.summary()Z"
      ],
      "execution_count": 16,
      "outputs": [
        {
          "output_type": "stream",
          "text": [
            "_________________________________________________________________\n",
            "Layer (type)                 Output Shape              Param #   \n",
            "=================================================================\n",
            "conv2d_1 (Conv2D)            (None, 26, 26, 32)        320       \n",
            "_________________________________________________________________\n",
            "conv2d_2 (Conv2D)            (None, 24, 24, 64)        18496     \n",
            "_________________________________________________________________\n",
            "max_pooling2d_1 (MaxPooling2 (None, 12, 12, 64)        0         \n",
            "_________________________________________________________________\n",
            "dropout_1 (Dropout)          (None, 12, 12, 64)        0         \n",
            "_________________________________________________________________\n",
            "flatten_1 (Flatten)          (None, 9216)              0         \n",
            "_________________________________________________________________\n",
            "dense_1 (Dense)              (None, 128)               1179776   \n",
            "_________________________________________________________________\n",
            "dropout_2 (Dropout)          (None, 128)               0         \n",
            "_________________________________________________________________\n",
            "dense_2 (Dense)              (None, 10)                1290      \n",
            "=================================================================\n",
            "Total params: 1,199,882\n",
            "Trainable params: 1,199,882\n",
            "Non-trainable params: 0\n",
            "_________________________________________________________________\n"
          ],
          "name": "stdout"
        }
      ]
    },
    {
      "metadata": {
        "id": "Sb3bT5VqVwz8",
        "colab_type": "code",
        "colab": {
          "base_uri": "https://localhost:8080/",
          "height": 376
        },
        "outputId": "9fae5a35-c2c9-473b-efc7-bf6bd77f5501"
      },
      "cell_type": "code",
      "source": [
        "plt.plot(history.history['acc'])\n",
        "plt.plot(history.history['val_acc'])\n",
        "plt.title('Model accuracy')\n",
        "plt.ylabel('Accuracy')\n",
        "plt.xlabel('Epoch')\n",
        "plt.legend(['Train', 'Test'], loc='upper left')\n",
        "plt.show()\n"
      ],
      "execution_count": 17,
      "outputs": [
        {
          "output_type": "display_data",
          "data": {
            "image/png": "[encoded data removed]",
            "text/plain": [
              "<Figure size 576x396 with 1 Axes>"
            ]
          },
          "metadata": {
            "tags": []
          }
        }
      ]
    },
    {
      "metadata": {
        "id": "H3_a-dChgSJm",
        "colab_type": "code",
        "colab": {
          "base_uri": "https://localhost:8080/",
          "height": 376
        },
        "outputId": "5cbe15ba-f052-46a7-c571-3067d48a652c"
      },
      "cell_type": "code",
      "source": [
        "plt.plot(history.history['loss'])\n",
        "plt.plot(history.history['val_loss'])\n",
        "plt.title('Model loss')\n",
        "plt.ylabel('Loss')\n",
        "plt.xlabel('Epoch')\n",
        "plt.legend(['Train', 'Test'], loc='upper left')\n",
        "plt.show()\n"
      ],
      "execution_count": 18,
      "outputs": [
        {
          "output_type": "display_data",
          "data": {
            "image/png": "[encoded data removed]",
            "text/plain": [
              "<Figure size 576x396 with 1 Axes>"
            ]
          },
          "metadata": {
            "tags": []
          }
        }
      ]
    },
    {
      "metadata": {
        "id": "tGC3o_2Gges1",
        "colab_type": "code",
        "colab": {
          "base_uri": "https://localhost:8080/",
          "height": 966
        },
        "outputId": "d55515ef-a7c6-4e07-f078-e5632bbf9572"
      },
      "cell_type": "code",
      "source": [
        "\n",
        "from IPython.display import SVG\n",
        "from keras.utils.vis_utils import model_to_dot\n",
        "\n",
        "\n",
        "\n",
        "\n",
        "SVG(model_to_dot(cnn,  show_shapes=True, show_layer_names=True, rankdir='HB').create(prog='dot', format='svg'))\n"
      ],
      "execution_count": 20,
      "outputs": [
        {
          "output_type": "execute_result",
          "data": {
            "text/plain": [
              "<IPython.core.display.SVG object>"
            ],
            "image/svg+xml": "<svg height=\"709pt\" viewBox=\"0.00 0.00 412.00 709.00\" width=\"412pt\" xmlns=\"http://www.w3.org/2000/svg\" xmlns:xlink=\"http://www.w3.org/1999/xlink\">\n<g class=\"graph\" id=\"graph0\" transform=\"scale(1 1) rotate(0) translate(4 705)\">\n<title>G</title>\n<polygon fill=\"#ffffff\" points=\"-4,4 -4,-705 408,-705 408,4 -4,4\" stroke=\"transparent\"/>\n<!-- 139985910073608 -->\n<g class=\"node\" id=\"node1\">\n<title>139985910073608</title>\n<polygon fill=\"none\" points=\"44,-581.5 44,-627.5 360,-627.5 360,-581.5 44,-581.5\" stroke=\"#000000\"/>\n<text fill=\"#000000\" font-family=\"Times,serif\" font-size=\"14.00\" text-anchor=\"middle\" x=\"110.5\" y=\"-600.8\">conv2d_1: Conv2D</text>\n<polyline fill=\"none\" points=\"177,-581.5 177,-627.5 \" stroke=\"#000000\"/>\n<text fill=\"#000000\" font-family=\"Times,serif\" font-size=\"14.00\" text-anchor=\"middle\" x=\"206\" y=\"-612.3\">input:</text>\n<polyline fill=\"none\" points=\"177,-604.5 235,-604.5 \" stroke=\"#000000\"/>\n<text fill=\"#000000\" font-family=\"Times,serif\" font-size=\"14.00\" text-anchor=\"middle\" x=\"206\" y=\"-589.3\">output:</text>\n<polyline fill=\"none\" points=\"235,-581.5 235,-627.5 \" stroke=\"#000000\"/>\n<text fill=\"#000000\" font-family=\"Times,serif\" font-size=\"14.00\" text-anchor=\"middle\" x=\"297.5\" y=\"-612.3\">(None, 28, 28, 1)</text>\n<polyline fill=\"none\" points=\"235,-604.5 360,-604.5 \" stroke=\"#000000\"/>\n<text fill=\"#000000\" font-family=\"Times,serif\" font-size=\"14.00\" text-anchor=\"middle\" x=\"297.5\" y=\"-589.3\">(None, 26, 26, 32)</text>\n</g>\n<!-- 139985910181504 -->\n<g class=\"node\" id=\"node2\">\n<title>139985910181504</title>\n<polygon fill=\"none\" points=\"44,-498.5 44,-544.5 360,-544.5 360,-498.5 44,-498.5\" stroke=\"#000000\"/>\n<text fill=\"#000000\" font-family=\"Times,serif\" font-size=\"14.00\" text-anchor=\"middle\" x=\"110.5\" y=\"-517.8\">conv2d_2: Conv2D</text>\n<polyline fill=\"none\" points=\"177,-498.5 177,-544.5 \" stroke=\"#000000\"/>\n<text fill=\"#000000\" font-family=\"Times,serif\" font-size=\"14.00\" text-anchor=\"middle\" x=\"206\" y=\"-529.3\">input:</text>\n<polyline fill=\"none\" points=\"177,-521.5 235,-521.5 \" stroke=\"#000000\"/>\n<text fill=\"#000000\" font-family=\"Times,serif\" font-size=\"14.00\" text-anchor=\"middle\" x=\"206\" y=\"-506.3\">output:</text>\n<polyline fill=\"none\" points=\"235,-498.5 235,-544.5 \" stroke=\"#000000\"/>\n<text fill=\"#000000\" font-family=\"Times,serif\" font-size=\"14.00\" text-anchor=\"middle\" x=\"297.5\" y=\"-529.3\">(None, 26, 26, 32)</text>\n<polyline fill=\"none\" points=\"235,-521.5 360,-521.5 \" stroke=\"#000000\"/>\n<text fill=\"#000000\" font-family=\"Times,serif\" font-size=\"14.00\" text-anchor=\"middle\" x=\"297.5\" y=\"-506.3\">(None, 24, 24, 64)</text>\n</g>\n<!-- 139985910073608&#45;&gt;139985910181504 -->\n<g class=\"edge\" id=\"edge2\">\n<title>139985910073608-&gt;139985910181504</title>\n<path d=\"M202,-581.3799C202,-573.1745 202,-563.7679 202,-554.8786\" fill=\"none\" stroke=\"#000000\"/>\n<polygon fill=\"#000000\" points=\"205.5001,-554.784 202,-544.784 198.5001,-554.784 205.5001,-554.784\" stroke=\"#000000\"/>\n</g>\n<!-- 139985910220112 -->\n<g class=\"node\" id=\"node3\">\n<title>139985910220112</title>\n<polygon fill=\"none\" points=\"0,-415.5 0,-461.5 404,-461.5 404,-415.5 0,-415.5\" stroke=\"#000000\"/>\n<text fill=\"#000000\" font-family=\"Times,serif\" font-size=\"14.00\" text-anchor=\"middle\" x=\"110.5\" y=\"-434.8\">max_pooling2d_1: MaxPooling2D</text>\n<polyline fill=\"none\" points=\"221,-415.5 221,-461.5 \" stroke=\"#000000\"/>\n<text fill=\"#000000\" font-family=\"Times,serif\" font-size=\"14.00\" text-anchor=\"middle\" x=\"250\" y=\"-446.3\">input:</text>\n<polyline fill=\"none\" points=\"221,-438.5 279,-438.5 \" stroke=\"#000000\"/>\n<text fill=\"#000000\" font-family=\"Times,serif\" font-size=\"14.00\" text-anchor=\"middle\" x=\"250\" y=\"-423.3\">output:</text>\n<polyline fill=\"none\" points=\"279,-415.5 279,-461.5 \" stroke=\"#000000\"/>\n<text fill=\"#000000\" font-family=\"Times,serif\" font-size=\"14.00\" text-anchor=\"middle\" x=\"341.5\" y=\"-446.3\">(None, 24, 24, 64)</text>\n<polyline fill=\"none\" points=\"279,-438.5 404,-438.5 \" stroke=\"#000000\"/>\n<text fill=\"#000000\" font-family=\"Times,serif\" font-size=\"14.00\" text-anchor=\"middle\" x=\"341.5\" y=\"-423.3\">(None, 12, 12, 64)</text>\n</g>\n<!-- 139985910181504&#45;&gt;139985910220112 -->\n<g class=\"edge\" id=\"edge3\">\n<title>139985910181504-&gt;139985910220112</title>\n<path d=\"M202,-498.3799C202,-490.1745 202,-480.7679 202,-471.8786\" fill=\"none\" stroke=\"#000000\"/>\n<polygon fill=\"#000000\" points=\"205.5001,-471.784 202,-461.784 198.5001,-471.784 205.5001,-471.784\" stroke=\"#000000\"/>\n</g>\n<!-- 139985910589760 -->\n<g class=\"node\" id=\"node4\">\n<title>139985910589760</title>\n<polygon fill=\"none\" points=\"43.5,-332.5 43.5,-378.5 360.5,-378.5 360.5,-332.5 43.5,-332.5\" stroke=\"#000000\"/>\n<text fill=\"#000000\" font-family=\"Times,serif\" font-size=\"14.00\" text-anchor=\"middle\" x=\"110.5\" y=\"-351.8\">dropout_1: Dropout</text>\n<polyline fill=\"none\" points=\"177.5,-332.5 177.5,-378.5 \" stroke=\"#000000\"/>\n<text fill=\"#000000\" font-family=\"Times,serif\" font-size=\"14.00\" text-anchor=\"middle\" x=\"206.5\" y=\"-363.3\">input:</text>\n<polyline fill=\"none\" points=\"177.5,-355.5 235.5,-355.5 \" stroke=\"#000000\"/>\n<text fill=\"#000000\" font-family=\"Times,serif\" font-size=\"14.00\" text-anchor=\"middle\" x=\"206.5\" y=\"-340.3\">output:</text>\n<polyline fill=\"none\" points=\"235.5,-332.5 235.5,-378.5 \" stroke=\"#000000\"/>\n<text fill=\"#000000\" font-family=\"Times,serif\" font-size=\"14.00\" text-anchor=\"middle\" x=\"298\" y=\"-363.3\">(None, 12, 12, 64)</text>\n<polyline fill=\"none\" points=\"235.5,-355.5 360.5,-355.5 \" stroke=\"#000000\"/>\n<text fill=\"#000000\" font-family=\"Times,serif\" font-size=\"14.00\" text-anchor=\"middle\" x=\"298\" y=\"-340.3\">(None, 12, 12, 64)</text>\n</g>\n<!-- 139985910220112&#45;&gt;139985910589760 -->\n<g class=\"edge\" id=\"edge4\">\n<title>139985910220112-&gt;139985910589760</title>\n<path d=\"M202,-415.3799C202,-407.1745 202,-397.7679 202,-388.8786\" fill=\"none\" stroke=\"#000000\"/>\n<polygon fill=\"#000000\" points=\"205.5001,-388.784 202,-378.784 198.5001,-388.784 205.5001,-388.784\" stroke=\"#000000\"/>\n</g>\n<!-- 139985910590768 -->\n<g class=\"node\" id=\"node5\">\n<title>139985910590768</title>\n<polygon fill=\"none\" points=\"54,-249.5 54,-295.5 350,-295.5 350,-249.5 54,-249.5\" stroke=\"#000000\"/>\n<text fill=\"#000000\" font-family=\"Times,serif\" font-size=\"14.00\" text-anchor=\"middle\" x=\"110.5\" y=\"-268.8\">flatten_1: Flatten</text>\n<polyline fill=\"none\" points=\"167,-249.5 167,-295.5 \" stroke=\"#000000\"/>\n<text fill=\"#000000\" font-family=\"Times,serif\" font-size=\"14.00\" text-anchor=\"middle\" x=\"196\" y=\"-280.3\">input:</text>\n<polyline fill=\"none\" points=\"167,-272.5 225,-272.5 \" stroke=\"#000000\"/>\n<text fill=\"#000000\" font-family=\"Times,serif\" font-size=\"14.00\" text-anchor=\"middle\" x=\"196\" y=\"-257.3\">output:</text>\n<polyline fill=\"none\" points=\"225,-249.5 225,-295.5 \" stroke=\"#000000\"/>\n<text fill=\"#000000\" font-family=\"Times,serif\" font-size=\"14.00\" text-anchor=\"middle\" x=\"287.5\" y=\"-280.3\">(None, 12, 12, 64)</text>\n<polyline fill=\"none\" points=\"225,-272.5 350,-272.5 \" stroke=\"#000000\"/>\n<text fill=\"#000000\" font-family=\"Times,serif\" font-size=\"14.00\" text-anchor=\"middle\" x=\"287.5\" y=\"-257.3\">(None, 9216)</text>\n</g>\n<!-- 139985910589760&#45;&gt;139985910590768 -->\n<g class=\"edge\" id=\"edge5\">\n<title>139985910589760-&gt;139985910590768</title>\n<path d=\"M202,-332.3799C202,-324.1745 202,-314.7679 202,-305.8786\" fill=\"none\" stroke=\"#000000\"/>\n<polygon fill=\"#000000\" points=\"205.5001,-305.784 202,-295.784 198.5001,-305.784 205.5001,-305.784\" stroke=\"#000000\"/>\n</g>\n<!-- 139985867676192 -->\n<g class=\"node\" id=\"node6\">\n<title>139985867676192</title>\n<polygon fill=\"none\" points=\"72,-166.5 72,-212.5 332,-212.5 332,-166.5 72,-166.5\" stroke=\"#000000\"/>\n<text fill=\"#000000\" font-family=\"Times,serif\" font-size=\"14.00\" text-anchor=\"middle\" x=\"125.5\" y=\"-185.8\">dense_1: Dense</text>\n<polyline fill=\"none\" points=\"179,-166.5 179,-212.5 \" stroke=\"#000000\"/>\n<text fill=\"#000000\" font-family=\"Times,serif\" font-size=\"14.00\" text-anchor=\"middle\" x=\"208\" y=\"-197.3\">input:</text>\n<polyline fill=\"none\" points=\"179,-189.5 237,-189.5 \" stroke=\"#000000\"/>\n<text fill=\"#000000\" font-family=\"Times,serif\" font-size=\"14.00\" text-anchor=\"middle\" x=\"208\" y=\"-174.3\">output:</text>\n<polyline fill=\"none\" points=\"237,-166.5 237,-212.5 \" stroke=\"#000000\"/>\n<text fill=\"#000000\" font-family=\"Times,serif\" font-size=\"14.00\" text-anchor=\"middle\" x=\"284.5\" y=\"-197.3\">(None, 9216)</text>\n<polyline fill=\"none\" points=\"237,-189.5 332,-189.5 \" stroke=\"#000000\"/>\n<text fill=\"#000000\" font-family=\"Times,serif\" font-size=\"14.00\" text-anchor=\"middle\" x=\"284.5\" y=\"-174.3\">(None, 128)</text>\n</g>\n<!-- 139985910590768&#45;&gt;139985867676192 -->\n<g class=\"edge\" id=\"edge6\">\n<title>139985910590768-&gt;139985867676192</title>\n<path d=\"M202,-249.3799C202,-241.1745 202,-231.7679 202,-222.8786\" fill=\"none\" stroke=\"#000000\"/>\n<polygon fill=\"#000000\" points=\"205.5001,-222.784 202,-212.784 198.5001,-222.784 205.5001,-222.784\" stroke=\"#000000\"/>\n</g>\n<!-- 139985867493672 -->\n<g class=\"node\" id=\"node7\">\n<title>139985867493672</title>\n<polygon fill=\"none\" points=\"62.5,-83.5 62.5,-129.5 341.5,-129.5 341.5,-83.5 62.5,-83.5\" stroke=\"#000000\"/>\n<text fill=\"#000000\" font-family=\"Times,serif\" font-size=\"14.00\" text-anchor=\"middle\" x=\"129.5\" y=\"-102.8\">dropout_2: Dropout</text>\n<polyline fill=\"none\" points=\"196.5,-83.5 196.5,-129.5 \" stroke=\"#000000\"/>\n<text fill=\"#000000\" font-family=\"Times,serif\" font-size=\"14.00\" text-anchor=\"middle\" x=\"225.5\" y=\"-114.3\">input:</text>\n<polyline fill=\"none\" points=\"196.5,-106.5 254.5,-106.5 \" stroke=\"#000000\"/>\n<text fill=\"#000000\" font-family=\"Times,serif\" font-size=\"14.00\" text-anchor=\"middle\" x=\"225.5\" y=\"-91.3\">output:</text>\n<polyline fill=\"none\" points=\"254.5,-83.5 254.5,-129.5 \" stroke=\"#000000\"/>\n<text fill=\"#000000\" font-family=\"Times,serif\" font-size=\"14.00\" text-anchor=\"middle\" x=\"298\" y=\"-114.3\">(None, 128)</text>\n<polyline fill=\"none\" points=\"254.5,-106.5 341.5,-106.5 \" stroke=\"#000000\"/>\n<text fill=\"#000000\" font-family=\"Times,serif\" font-size=\"14.00\" text-anchor=\"middle\" x=\"298\" y=\"-91.3\">(None, 128)</text>\n</g>\n<!-- 139985867676192&#45;&gt;139985867493672 -->\n<g class=\"edge\" id=\"edge7\">\n<title>139985867676192-&gt;139985867493672</title>\n<path d=\"M202,-166.3799C202,-158.1745 202,-148.7679 202,-139.8786\" fill=\"none\" stroke=\"#000000\"/>\n<polygon fill=\"#000000\" points=\"205.5001,-139.784 202,-129.784 198.5001,-139.784 205.5001,-139.784\" stroke=\"#000000\"/>\n</g>\n<!-- 139985867494400 -->\n<g class=\"node\" id=\"node8\">\n<title>139985867494400</title>\n<polygon fill=\"none\" points=\"76,-.5 76,-46.5 328,-46.5 328,-.5 76,-.5\" stroke=\"#000000\"/>\n<text fill=\"#000000\" font-family=\"Times,serif\" font-size=\"14.00\" text-anchor=\"middle\" x=\"129.5\" y=\"-19.8\">dense_2: Dense</text>\n<polyline fill=\"none\" points=\"183,-.5 183,-46.5 \" stroke=\"#000000\"/>\n<text fill=\"#000000\" font-family=\"Times,serif\" font-size=\"14.00\" text-anchor=\"middle\" x=\"212\" y=\"-31.3\">input:</text>\n<polyline fill=\"none\" points=\"183,-23.5 241,-23.5 \" stroke=\"#000000\"/>\n<text fill=\"#000000\" font-family=\"Times,serif\" font-size=\"14.00\" text-anchor=\"middle\" x=\"212\" y=\"-8.3\">output:</text>\n<polyline fill=\"none\" points=\"241,-.5 241,-46.5 \" stroke=\"#000000\"/>\n<text fill=\"#000000\" font-family=\"Times,serif\" font-size=\"14.00\" text-anchor=\"middle\" x=\"284.5\" y=\"-31.3\">(None, 128)</text>\n<polyline fill=\"none\" points=\"241,-23.5 328,-23.5 \" stroke=\"#000000\"/>\n<text fill=\"#000000\" font-family=\"Times,serif\" font-size=\"14.00\" text-anchor=\"middle\" x=\"284.5\" y=\"-8.3\">(None, 10)</text>\n</g>\n<!-- 139985867493672&#45;&gt;139985867494400 -->\n<g class=\"edge\" id=\"edge8\">\n<title>139985867493672-&gt;139985867494400</title>\n<path d=\"M202,-83.3799C202,-75.1745 202,-65.7679 202,-56.8786\" fill=\"none\" stroke=\"#000000\"/>\n<polygon fill=\"#000000\" points=\"205.5001,-56.784 202,-46.784 198.5001,-56.784 205.5001,-56.784\" stroke=\"#000000\"/>\n</g>\n<!-- 139985910181168 -->\n<g class=\"node\" id=\"node9\">\n<title>139985910181168</title>\n<polygon fill=\"none\" points=\"138,-664.5 138,-700.5 266,-700.5 266,-664.5 138,-664.5\" stroke=\"#000000\"/>\n<text fill=\"#000000\" font-family=\"Times,serif\" font-size=\"14.00\" text-anchor=\"middle\" x=\"202\" y=\"-678.8\">139985910181168</text>\n</g>\n<!-- 139985910181168&#45;&gt;139985910073608 -->\n<g class=\"edge\" id=\"edge1\">\n<title>139985910181168-&gt;139985910073608</title>\n<path d=\"M202,-664.4092C202,-656.4308 202,-646.795 202,-637.606\" fill=\"none\" stroke=\"#000000\"/>\n<polygon fill=\"#000000\" points=\"205.5001,-637.5333 202,-627.5333 198.5001,-637.5334 205.5001,-637.5333\" stroke=\"#000000\"/>\n</g>\n</g>\n</svg>"
          },
          "metadata": {
            "tags": []
          },
          "execution_count": 20
        }
      ]
    },
    {
      "metadata": {
        "id": "g8_8rtE5g9yT",
        "colab_type": "code",
        "colab": {}
      },
      "cell_type": "code",
      "source": [
        "pred = cnn.predict(x_test)"
      ],
      "execution_count": 0,
      "outputs": []
    },
    {
      "metadata": {
        "id": "upn3O_XJg91A",
        "colab_type": "code",
        "colab": {}
      },
      "cell_type": "code",
      "source": [
        "#visualize result predict\n",
        "def visua(x):\n",
        "  timg = x_test[x]\n",
        "  label1 = pred[x].astype(int)\n",
        "  label = list(label1).index(1)\n",
        "  timg = timg.reshape(28,28)\n",
        "  plt.title('Label is {label}'.format(label=label))\n",
        "  plt.imshow(timg, cmap='gray')\n",
        "  plt.show()"
      ],
      "execution_count": 0,
      "outputs": []
    },
    {
      "metadata": {
        "id": "tpqnyCLVnBMk",
        "colab_type": "code",
        "colab": {
          "base_uri": "https://localhost:8080/",
          "height": 362
        },
        "outputId": "f504084a-ca2b-4c6a-9a0a-4995d180c18a"
      },
      "cell_type": "code",
      "source": [
        "visua(0)"
      ],
      "execution_count": 57,
      "outputs": [
        {
          "output_type": "display_data",
          "data": {
            "image/png": "[encoded data removed]",
            "text/plain": [
              "<Figure size 576x396 with 1 Axes>"
            ]
          },
          "metadata": {
            "tags": []
          }
        }
      ]
    },
    {
      "metadata": {
        "id": "2NE8_DHplysj",
        "colab_type": "code",
        "colab": {}
      },
      "cell_type": "code",
      "source": [
        "pr = pred.astype(int)"
      ],
      "execution_count": 0,
      "outputs": []
    },
    {
      "metadata": {
        "id": "SZhsDzBnmvB4",
        "colab_type": "code",
        "colab": {
          "base_uri": "https://localhost:8080/",
          "height": 34
        },
        "outputId": "044c342d-5695-4888-9b07-aa1570340eab"
      },
      "cell_type": "code",
      "source": [
        "pr[1]"
      ],
      "execution_count": 56,
      "outputs": [
        {
          "output_type": "execute_result",
          "data": {
            "text/plain": [
              "array([0, 0, 0, 0, 0, 0, 0, 0, 0, 0])"
            ]
          },
          "metadata": {
            "tags": []
          },
          "execution_count": 56
        }
      ]
    },
    {
      "metadata": {
        "id": "qNeayxzjmJmX",
        "colab_type": "code",
        "colab": {
          "base_uri": "https://localhost:8080/",
          "height": 34
        },
        "outputId": "43a414fe-9c0d-4b48-8608-1bf750acda7e"
      },
      "cell_type": "code",
      "source": [
        "t = 0\n",
        "for i in range(10000):\n",
        "  if 1 not in pr[i]:\n",
        "    t+=1\n",
        "\n",
        "print(t)"
      ],
      "execution_count": 54,
      "outputs": [
        {
          "output_type": "stream",
          "text": [
            "5877\n"
          ],
          "name": "stdout"
        }
      ]
    },
    {
      "metadata": {
        "id": "yNhD4ya7g93k",
        "colab_type": "code",
        "colab": {
          "base_uri": "https://localhost:8080/",
          "height": 34
        },
        "outputId": "dae71be1-ae8f-4664-80f2-5bddc266227b"
      },
      "cell_type": "code",
      "source": [
        "pred.shape"
      ],
      "execution_count": 31,
      "outputs": [
        {
          "output_type": "execute_result",
          "data": {
            "text/plain": [
              "(10000, 10)"
            ]
          },
          "metadata": {
            "tags": []
          },
          "execution_count": 31
        }
      ]
    },
    {
      "metadata": {
        "id": "IjVSq_Wag96k",
        "colab_type": "code",
        "colab": {}
      },
      "cell_type": "code",
      "source": [
        ""
      ],
      "execution_count": 0,
      "outputs": []
    },
    {
      "metadata": {
        "id": "CG8ZBeR9g9-r",
        "colab_type": "code",
        "colab": {}
      },
      "cell_type": "code",
      "source": [
        ""
      ],
      "execution_count": 0,
      "outputs": []
    },
    {
      "metadata": {
        "id": "fJsIcOB7g-Ba",
        "colab_type": "code",
        "colab": {}
      },
      "cell_type": "code",
      "source": [
        ""
      ],
      "execution_count": 0,
      "outputs": []
    }
  ]
}